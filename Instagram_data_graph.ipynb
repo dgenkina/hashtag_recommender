{
 "cells": [
  {
   "cell_type": "code",
   "execution_count": 5,
   "metadata": {},
   "outputs": [],
   "source": [
    "import numpy as np\n",
    "from itertools import combinations\n",
    "import progressbar\n",
    "import itertools \n",
    "import networkx as nx\n",
    "import pickle"
   ]
  },
  {
   "cell_type": "markdown",
   "metadata": {},
   "source": [
    "# Create hashtag graph"
   ]
  },
  {
   "cell_type": "markdown",
   "metadata": {},
   "source": [
    "First, define functions for creating a hashtag graph from a list of posts, input in the format of three lists: list of hashtags associated with each posts, list of succes scores for each post (at first, simply the number of likes it received), and a list of timestamps of the posts.\n",
    "\n",
    "The graph will get pickled into a file defined by savename"
   ]
  },
  {
   "cell_type": "code",
   "execution_count": 71,
   "metadata": {},
   "outputs": [],
   "source": [
    "def nodes_connected(graph, u, v):\n",
    "     return u in graph.neighbors(v)\n",
    " \n",
    "def make_graph(hashtag_list_of_lists,success_list,timestamp_list,savename='instagraph'):\n",
    "    tag_graph = nx.Graph()\n",
    "    for ind,hashtag_list in progressbar.progressbar(enumerate(hashtag_list_of_lists)):\n",
    "        for hashtag in hashtag_list:\n",
    "            if hashtag in tag_graph.nodes:\n",
    "                success = tag_graph.nodes[hashtag]['success'] + success_list[ind]\n",
    "                occurence = tag_graph.nodes[hashtag]['occurence'] + 1.0\n",
    "                \n",
    "                successes = list(tag_graph.nodes[hashtag]['successes'])\n",
    "                successes.append(success_list[ind])\n",
    "                successes = tuple(successes)\n",
    "                \n",
    "                timestamps = list(tag_graph.nodes[hashtag]['timestamps'])\n",
    "                timestamps.append(timestamp_list[ind])\n",
    "                timestamps = tuple(timestamps)\n",
    "                \n",
    "            else:\n",
    "                success = success_list[ind]\n",
    "                occurence = 1.0  \n",
    "                successes = tuple([success_list[ind]])\n",
    "                timestamps = tuple([timestamp_list[ind]])\n",
    "            tag_graph.add_node(hashtag, success=success,occurence=occurence,\n",
    "                              successes = successes, timestamps=timestamps)\n",
    "        \n",
    "        for a,b in itertools.combinations(hashtag_list,2):\n",
    "            if nodes_connected(tag_graph,a,b):\n",
    "                tag_graph[a][b]['weight']+=1\n",
    "            else:\n",
    "                tag_graph.add_edge(a,b,weight=1)\n",
    "    with open(savename, 'wb') as f:\n",
    "        pickle.dump(tag_graph,f)\n",
    "    return tag_graph"
   ]
  },
  {
   "cell_type": "markdown",
   "metadata": {},
   "source": [
    "Actually create the graph.\n",
    "\n",
    "We scale the number of likes each post received by the number of followers the poster has, to control for the popularity of the poster in assigning hashtag popularity. For this, we load from the user dataset and extract the number of followers for each user.\n",
    "\n",
    "We will first use the first 300,000 posts. We implement caching, so we don't have to create the same graph more than once"
   ]
  },
  {
   "cell_type": "code",
   "execution_count": 72,
   "metadata": {},
   "outputs": [
    {
     "name": "stderr",
     "output_type": "stream",
     "text": [
      "C:\\Users\\Swooty\\Anaconda3\\lib\\site-packages\\ipykernel_launcher.py:10: SettingWithCopyWarning: \n",
      "A value is trying to be set on a copy of a slice from a DataFrame.\n",
      "Try using .loc[row_indexer,col_indexer] = value instead\n",
      "\n",
      "See the caveats in the documentation: http://pandas.pydata.org/pandas-docs/stable/indexing.html#indexing-view-versus-copy\n",
      "  # Remove the CWD from sys.path while we load stuff.\n",
      "C:\\Users\\Swooty\\Anaconda3\\lib\\site-packages\\ipykernel_launcher.py:18: SettingWithCopyWarning: \n",
      "A value is trying to be set on a copy of a slice from a DataFrame.\n",
      "Try using .loc[row_indexer,col_indexer] = value instead\n",
      "\n",
      "See the caveats in the documentation: http://pandas.pydata.org/pandas-docs/stable/indexing.html#indexing-view-versus-copy\n",
      "C:\\Users\\Swooty\\Anaconda3\\lib\\site-packages\\ipykernel_launcher.py:19: SettingWithCopyWarning: \n",
      "A value is trying to be set on a copy of a slice from a DataFrame.\n",
      "Try using .loc[row_indexer,col_indexer] = value instead\n",
      "\n",
      "See the caveats in the documentation: http://pandas.pydata.org/pandas-docs/stable/indexing.html#indexing-view-versus-copy\n"
     ]
    }
   ],
   "source": [
    "filepath = 'C:\\\\Users\\\\Swooty\\\\Documents\\\\Data science\\\\DataIncubator\\\\twitter\\\\insta_data\\\\media.csv'\n",
    "df = pd.read_csv(filepath, sep=';', encoding='iso-8859-1')\n",
    "\n",
    "filepath = 'C:\\\\Users\\\\Swooty\\\\Documents\\\\Data science\\\\DataIncubator\\\\twitter\\\\insta_data\\\\users.csv'\n",
    "df2 = pd.read_csv(filepath, sep=';', encoding='iso-8859-1')\n",
    "\n",
    "df_followers = df2.groupby(['sID']).count()\n",
    "\n",
    "df_has_tags = df[pd.notnull(df['comments'])]\n",
    "df_has_tags['tagset'] = df_has_tags['tagset'].apply(lambda x: x.split(','))\n",
    "\n",
    "def get_followers(author_id):\n",
    "    try:\n",
    "        followers = df_followers['tID'][author_id]\n",
    "    except(KeyError):\n",
    "        followers = 1.0\n",
    "    return followers\n",
    "df_has_tags['followers'] = df_has_tags['id_author'].apply(get_followers)\n",
    "df_has_tags['scaled_likes'] = df_has_tags['likes']/df_has_tags['followers']\n",
    "\n",
    "df_has_tags = df_has_tags.sample(frac=1).reset_index(drop=True)\n",
    "\n",
    "graph_lo = 0\n",
    "graph_hi = 300000\n",
    "hashtag_lil = df_has_tags['tagset'].tolist()[graph_lo:graph_hi]\n",
    "likes_list = df_has_tags['scaled_likes'].tolist()[graph_lo:graph_hi]\n",
    "timestamp_list = df_has_tags['TS_upload'].tolist()[graph_lo:graph_hi]\n",
    "followers_list = df_has_tags['followers'].tolist()[graph_lo:graph_hi]\n",
    "\n",
    "savename = 'instagraph_300K'\n",
    "\n",
    "try:\n",
    "    with open(savename, 'rb') as f:\n",
    "        graph = pickle.load(f)\n",
    "except(FileNotFoundError):\n",
    "    graph = make_graph(hashtag_lil,likes_list,timestamp_list,savename=savename)    "
   ]
  },
  {
   "cell_type": "markdown",
   "metadata": {},
   "source": [
    "Let's see what a node of the graph looks like:"
   ]
  },
  {
   "cell_type": "code",
   "execution_count": 73,
   "metadata": {},
   "outputs": [
    {
     "data": {
      "text/plain": [
       "{'success': 556.8152470152597,\n",
       " 'occurence': 88.0,\n",
       " 'successes': (0.9402985074626866,\n",
       "  5.0,\n",
       "  30.0,\n",
       "  0.2857142857142857,\n",
       "  0.3582089552238806,\n",
       "  3.3047619047619046,\n",
       "  15.0,\n",
       "  0.47761194029850745,\n",
       "  144.175,\n",
       "  3.8333333333333335,\n",
       "  4.819047619047619,\n",
       "  1.0298507462686568,\n",
       "  1.0294117647058822,\n",
       "  8.0,\n",
       "  4.333333333333333,\n",
       "  0.3880597014925373,\n",
       "  0.7058823529411765,\n",
       "  0.40298507462686567,\n",
       "  0.4626865671641791,\n",
       "  3.75,\n",
       "  4.627272727272727,\n",
       "  0.8333333333333334,\n",
       "  0.7941176470588235,\n",
       "  0.29850746268656714,\n",
       "  0.13432835820895522,\n",
       "  0.5588235294117647,\n",
       "  0.5522388059701493,\n",
       "  3.1666666666666665,\n",
       "  0.14705882352941177,\n",
       "  0.3880597014925373,\n",
       "  0.5074626865671642,\n",
       "  0.2835820895522388,\n",
       "  0.40310077519379844,\n",
       "  3.6952380952380954,\n",
       "  0.47761194029850745,\n",
       "  0.47761194029850745,\n",
       "  4.0,\n",
       "  0.6865671641791045,\n",
       "  0.5970149253731343,\n",
       "  3.876190476190476,\n",
       "  0.373134328358209,\n",
       "  3.3333333333333335,\n",
       "  3.1666666666666665,\n",
       "  3.9909090909090907,\n",
       "  7.0,\n",
       "  0.6865671641791045,\n",
       "  3.7904761904761903,\n",
       "  0.47761194029850745,\n",
       "  4.628571428571429,\n",
       "  5.5,\n",
       "  0.4925373134328358,\n",
       "  0.9705882352941176,\n",
       "  0.7352941176470589,\n",
       "  0.44776119402985076,\n",
       "  0.9402985074626866,\n",
       "  3.657142857142857,\n",
       "  51.0,\n",
       "  3.8285714285714287,\n",
       "  37.0,\n",
       "  3.1714285714285713,\n",
       "  0.44776119402985076,\n",
       "  5.672727272727273,\n",
       "  0.40298507462686567,\n",
       "  0.7058823529411765,\n",
       "  0.2537313432835821,\n",
       "  52.0,\n",
       "  0.4925373134328358,\n",
       "  5.266666666666667,\n",
       "  2.1492537313432836,\n",
       "  0.5223880597014925,\n",
       "  0.4626865671641791,\n",
       "  5.154545454545454,\n",
       "  0.582089552238806,\n",
       "  0.44776119402985076,\n",
       "  3.761904761904762,\n",
       "  0.43283582089552236,\n",
       "  0.29457364341085274,\n",
       "  0.26865671641791045,\n",
       "  13.0,\n",
       "  5.166666666666667,\n",
       "  0.5714285714285714,\n",
       "  8.0,\n",
       "  0.34328358208955223,\n",
       "  46.0,\n",
       "  8.75,\n",
       "  0.2222222222222222,\n",
       "  5.038095238095238,\n",
       "  0.4126984126984127),\n",
       " 'timestamps': (1357227404,\n",
       "  1376845911,\n",
       "  1389280188,\n",
       "  1327670056,\n",
       "  1358642810,\n",
       "  1376961403,\n",
       "  1364244782,\n",
       "  1361848317,\n",
       "  1391734451,\n",
       "  1373647300,\n",
       "  1380224843,\n",
       "  1357227368,\n",
       "  1388537292,\n",
       "  1346349124,\n",
       "  1377275565,\n",
       "  1370217393,\n",
       "  1386449319,\n",
       "  1363436682,\n",
       "  1360624128,\n",
       "  1384010517,\n",
       "  1375055300,\n",
       "  1377471702,\n",
       "  1386187199,\n",
       "  1367193874,\n",
       "  1348174630,\n",
       "  1387208321,\n",
       "  1358642668,\n",
       "  1377440951,\n",
       "  1381708058,\n",
       "  1358695867,\n",
       "  1358695750,\n",
       "  1369866611,\n",
       "  1332330268,\n",
       "  1377276565,\n",
       "  1358716679,\n",
       "  1357072062,\n",
       "  1345922264,\n",
       "  1358717404,\n",
       "  1360588725,\n",
       "  1377622778,\n",
       "  1357096321,\n",
       "  1340928993,\n",
       "  1372919764,\n",
       "  1375322067,\n",
       "  1347748704,\n",
       "  1355762376,\n",
       "  1377010240,\n",
       "  1358642923,\n",
       "  1378840739,\n",
       "  1373328314,\n",
       "  1360588928,\n",
       "  1365547123,\n",
       "  1388638983,\n",
       "  1352248303,\n",
       "  1357227336,\n",
       "  1376836882,\n",
       "  1388413127,\n",
       "  1377444058,\n",
       "  1389188001,\n",
       "  1378506228,\n",
       "  1370030982,\n",
       "  1374812310,\n",
       "  1361848139,\n",
       "  1381685702,\n",
       "  1361137836,\n",
       "  1384484033,\n",
       "  1370317407,\n",
       "  1376923129,\n",
       "  1380645071,\n",
       "  1360899149,\n",
       "  1359397589,\n",
       "  1375041543,\n",
       "  1364735256,\n",
       "  1348864938,\n",
       "  1379121277,\n",
       "  1359081787,\n",
       "  1332807940,\n",
       "  1365395881,\n",
       "  1373834480,\n",
       "  1372983325,\n",
       "  1328053316,\n",
       "  1370201459,\n",
       "  1367193761,\n",
       "  1390154920,\n",
       "  1385303277,\n",
       "  1361663565,\n",
       "  1377997628,\n",
       "  1327841939)}"
      ]
     },
     "execution_count": 73,
     "metadata": {},
     "output_type": "execute_result"
    }
   ],
   "source": [
    "graph.nodes['costarica']"
   ]
  },
  {
   "cell_type": "markdown",
   "metadata": {},
   "source": [
    "# Look at a small piece of the graph\n",
    "\n",
    "Here, we will pick a hashtag and then make a small sub-graph that contains that hashtag and the most popular/common hashtags connected to it on the graph. "
   ]
  },
  {
   "cell_type": "code",
   "execution_count": 74,
   "metadata": {},
   "outputs": [],
   "source": [
    "scaled_success_list = []\n",
    "\n",
    "for node in graph.nodes:\n",
    "    ss = graph.nodes[node]['success']/graph.nodes[node]['occurence']\n",
    "    occ = graph.nodes[node]['occurence']\n",
    "    scaled_success_list.append((node,ss,occ))\n",
    "best_tag = sorted(scaled_success_list, key = lambda x: -x[1])[0][0]\n",
    "common_tag = sorted(scaled_success_list, key = lambda x: -x[2])[35][0]\n"
   ]
  },
  {
   "cell_type": "code",
   "execution_count": 75,
   "metadata": {},
   "outputs": [],
   "source": [
    "def make_sub_graph(center_tag,occurence_cutoff = 0, success_cutoff = 0):\n",
    "    sub_graph = nx.Graph()\n",
    "    sub_graph.add_node(center_tag, \n",
    "                       success = graph.nodes[center_tag]['success'],\n",
    "                       occurence = graph.nodes[center_tag]['occurence'],\n",
    "                       ss = graph.nodes[center_tag]['success']/graph.nodes[center_tag]['occurence'])\n",
    "    \n",
    "    for tag in graph.neighbors(center_tag):\n",
    "        if graph.nodes[tag]['occurence']>occurence_cutoff:\n",
    "            if graph.nodes[tag]['success']/graph.nodes[tag]['occurence']>success_cutoff:\n",
    "                sub_graph.add_node(tag,\n",
    "                           success = graph.nodes[tag]['success'],\n",
    "                           occurence = graph.nodes[tag]['occurence'],\n",
    "                           ss = graph.nodes[tag]['success']/graph.nodes[tag]['occurence'])\n",
    "\n",
    "    for a,b in itertools.combinations(sub_graph.nodes,2):\n",
    "        if nodes_connected(graph,a,b):\n",
    "            sub_graph.add_edge(a,b,weight = graph[a][b]['weight'])\n",
    "        \n",
    "    return sub_graph"
   ]
  },
  {
   "cell_type": "code",
   "execution_count": 76,
   "metadata": {},
   "outputs": [],
   "source": [
    "def get_sub_graph_sizes(sub_graph):\n",
    "    node_size_list = []\n",
    "    occurence_list = []\n",
    "    for node in sub_graph.nodes:\n",
    "        node_size_list.append(sub_graph.nodes[node]['ss'])\n",
    "        occurence_list.append(sub_graph.nodes[node]['occurence'])\n",
    "        \n",
    "    edge_width_list = []\n",
    "    for a,b in sub_graph.edges:\n",
    "        occ_a = sub_graph.nodes[a]['occurence']\n",
    "        occ_b = sub_graph.nodes[b]['occurence']\n",
    "        edge_width_list.append(float(sub_graph[a][b]['weight'])/float(occ_a)/float(occ_b))\n",
    "        \n",
    "    return node_size_list, occurence_list, edge_width_list"
   ]
  },
  {
   "cell_type": "code",
   "execution_count": 77,
   "metadata": {},
   "outputs": [
    {
     "data": {
      "text/plain": [
       "4"
      ]
     },
     "execution_count": 77,
     "metadata": {},
     "output_type": "execute_result"
    }
   ],
   "source": [
    "sub_graph = make_sub_graph('costarica',occurence_cutoff=30, success_cutoff=200)\n",
    "node_size_list, occurence_list, edge_width_list = get_sub_graph_sizes(sub_graph)\n",
    "len(node_size_list)"
   ]
  },
  {
   "cell_type": "code",
   "execution_count": 78,
   "metadata": {},
   "outputs": [
    {
     "name": "stderr",
     "output_type": "stream",
     "text": [
      "C:\\Users\\Swooty\\Anaconda3\\lib\\site-packages\\networkx\\drawing\\nx_pylab.py:611: MatplotlibDeprecationWarning: isinstance(..., numbers.Number)\n",
      "  if cb.is_numlike(alpha):\n"
     ]
    },
    {
     "data": {
      "image/png": "[encoded data removed]",
      "text/plain": [
       "<Figure size 432x288 with 1 Axes>"
      ]
     },
     "metadata": {},
     "output_type": "display_data"
    }
   ],
   "source": [
    "import matplotlib.pyplot as  plt\n",
    "nx.drawing.nx_pylab.draw(sub_graph, \n",
    "                         linewidths = 20,\n",
    "                         node_size = node_size_list, \n",
    "                       #  width = 10*edge_width_list,\n",
    "                         edge_color = 'k',\n",
    "                         with_labels=True)\n",
    "plt.savefig('sample_graph.png', dpi=300, bbox_inches='tight')"
   ]
  },
  {
   "cell_type": "markdown",
   "metadata": {},
   "source": [
    "# Validate that hashtag popularity is predictive of post popularity"
   ]
  },
  {
   "cell_type": "markdown",
   "metadata": {},
   "source": [
    "First, for all the posts, we get a hashtag success score by looking adding success rating (from the graph) of each of the hashtags included in the post."
   ]
  },
  {
   "cell_type": "code",
   "execution_count": 79,
   "metadata": {},
   "outputs": [],
   "source": [
    "def get_hashtag_success(hashtag_list):\n",
    "    summ = 0.0\n",
    "    num = 0.0\n",
    "    for ind, node in enumerate(hashtag_list):\n",
    "        try:\n",
    "            summ += float(graph.nodes[node]['success'])/float(graph.nodes[node]['occurence'])\n",
    "            num += 1.0\n",
    "        except(KeyError):\n",
    "            pass\n",
    "    if num == 0.0:\n",
    "        return float('NaN')\n",
    "    return summ\n",
    "df_has_tags['hashtag_success'] = df_has_tags['tagset'].apply(get_hashtag_success)"
   ]
  },
  {
   "cell_type": "markdown",
   "metadata": {},
   "source": [
    "Pick a subset of the data (not the subset used in making the graph!) and use linear regression to extract a correlation between the hashtag success score of the post and the actual success, given by (# of likes)/(# of followers), of the post."
   ]
  },
  {
   "cell_type": "code",
   "execution_count": 81,
   "metadata": {},
   "outputs": [
    {
     "name": "stdout",
     "output_type": "stream",
     "text": [
      "Score = 0.10255503107083064\n",
      "Coef = [0.09731288], intersept = 8.437812357033918\n"
     ]
    }
   ],
   "source": [
    "from sklearn.linear_model import LinearRegression\n",
    "\n",
    "fit_lo = graph_hi\n",
    "fit_hi = graph_hi + 100000\n",
    "\n",
    "y = df_has_tags[pd.notnull(df_has_tags['hashtag_success'])]['scaled_likes'][fit_lo:fit_hi]\n",
    "X =df_has_tags[pd.notnull(df_has_tags['hashtag_success'])][['hashtag_success']][fit_lo:fit_hi]\n",
    "\n",
    "lr = LinearRegression()\n",
    "lr.fit(X,y)\n",
    "print('Score = {score}'.format(score = lr.score(X,y)))\n",
    "print('Coef = {coef}, intersept = {ic}'.format(coef = lr.coef_, ic = lr.intercept_))"
   ]
  },
  {
   "cell_type": "markdown",
   "metadata": {},
   "source": [
    "Use a separate set of data (call it the test set) to score the validity of the linear fit"
   ]
  },
  {
   "cell_type": "code",
   "execution_count": 82,
   "metadata": {},
   "outputs": [
    {
     "name": "stdout",
     "output_type": "stream",
     "text": [
      "Score on test set = 0.094432026239333\n"
     ]
    }
   ],
   "source": [
    "test_lo = fit_hi\n",
    "test_hi = fit_hi +100000\n",
    "y_test = df_has_tags[pd.notnull(df_has_tags['hashtag_success'])]['scaled_likes'][test_lo:test_hi]\n",
    "X_test = df_has_tags[pd.notnull(df_has_tags['hashtag_success'])][['hashtag_success']][test_lo:test_hi]\n",
    "test_sc = lr.score(X_test,y_test)\n",
    "print('Score on test set = {score}'.format(score = test_sc))"
   ]
  },
  {
   "cell_type": "markdown",
   "metadata": {},
   "source": [
    "And make a plot of both the data used for the fit, the test data, and the linear fit"
   ]
  },
  {
   "cell_type": "code",
   "execution_count": 85,
   "metadata": {},
   "outputs": [
    {
     "data": {
      "image/png": "[encoded data removed]",
      "text/plain": [
       "<Figure size 432x288 with 1 Axes>"
      ]
     },
     "metadata": {
      "needs_background": "light"
     },
     "output_type": "display_data"
    }
   ],
   "source": [
    "from matplotlib import rcParams\n",
    "rcParams['axes.labelsize'] = 20\n",
    "rcParams['xtick.labelsize'] = 15\n",
    "rcParams['ytick.labelsize'] = 15\n",
    "rcParams['legend.fontsize'] = 15\n",
    "\n",
    "rcParams['pdf.fonttype'] = 42 # True type fonts\n",
    "rcParams['font.family'] = 'sans-serif'\n",
    "\n",
    "fig = plt.figure()\n",
    "pan = fig.add_subplot(111)\n",
    "pan.plot(X_test/10000,y_test/1000, 'r.',label = 'test data')\n",
    "pan.plot(X/10000,y/1000, 'b.', label = 'fit data')\n",
    "start,stop = pan.get_xlim()\n",
    "xlist = np.linspace(start*1000,stop*10000, 1000)\n",
    "ylist = lr.intercept_ + lr.coef_[0]*xlist\n",
    "pan.plot(xlist/10000,ylist/1000,'b-')\n",
    "pan.set_xlabel('Hashtag popularity score')\n",
    "pan.set_ylabel('Post popularity score')\n",
    "pan.set_title(r'$R^2$ score = {:.2f}'.format(test_sc), size = 20)\n",
    "plt.legend()\n",
    "plt.tight_layout()\n",
    "fig.show()\n",
    "plt.savefig('validation.png',dpi=500)"
   ]
  },
  {
   "cell_type": "markdown",
   "metadata": {},
   "source": [
    "# Explore time series of particular hashtags"
   ]
  },
  {
   "cell_type": "code",
   "execution_count": 86,
   "metadata": {},
   "outputs": [
    {
     "data": {
      "text/plain": [
       "[('instagood', 43974.0),\n",
       " ('photooftheday', 35610.0),\n",
       " ('vscocam', 27454.0),\n",
       " ('instagramhub', 24340.0),\n",
       " ('iphoneonly', 23895.0),\n",
       " ('instamood', 22906.0),\n",
       " ('jj', 22496.0),\n",
       " ('iphonesia', 21251.0),\n",
       " ('igers', 20089.0),\n",
       " ('picoftheday', 18952.0)]"
      ]
     },
     "execution_count": 86,
     "metadata": {},
     "output_type": "execute_result"
    }
   ],
   "source": [
    "occurence_list = []\n",
    "for node in graph.nodes:\n",
    "    occ = graph.nodes[node]['occurence']\n",
    "    occurence_list.append((node,occ))\n",
    "occurence_list = sorted(occurence_list, key = lambda x: -x[1])\n",
    "occurence_list[:10]"
   ]
  },
  {
   "cell_type": "code",
   "execution_count": 93,
   "metadata": {},
   "outputs": [
    {
     "name": "stdout",
     "output_type": "stream",
     "text": [
      "16x9fordays\n",
      "743\n",
      "743\n",
      "2013-03-01 11:31:46\n"
     ]
    },
    {
     "data": {
      "text/plain": [
       "[<matplotlib.lines.Line2D at 0x217d61f1550>]"
      ]
     },
     "execution_count": 93,
     "metadata": {},
     "output_type": "execute_result"
    },
    {
     "data": {
      "image/png": "[encoded data removed]",
      "text/plain": [
       "<Figure size 432x288 with 1 Axes>"
      ]
     },
     "metadata": {
      "needs_background": "light"
     },
     "output_type": "display_data"
    }
   ],
   "source": [
    "from datetime import datetime\n",
    "\n",
    "ind = 400\n",
    "print(occurence_list[ind][0])\n",
    "successes = list(graph.nodes[occurence_list[ind][0]]['successes'])\n",
    "timestamps = list(graph.nodes[occurence_list[ind][0]]['timestamps'])\n",
    "datetimelist = []\n",
    "for timestamp in timestamps:\n",
    "    datetimelist.append(datetime.fromtimestamp(timestamp))\n",
    "print(len(datetimelist))\n",
    "print(len(successes))\n",
    "print(datetimelist[-1])\n",
    "figure = plt.figure()\n",
    "panel = figure.add_subplot(111)\n",
    "panel.plot(timestamps,successes,'bo')"
   ]
  }
 ],
 "metadata": {
  "kernelspec": {
   "display_name": "Python 3",
   "language": "python",
   "name": "python3"
  },
  "language_info": {
   "codemirror_mode": {
    "name": "ipython",
    "version": 3
   },
   "file_extension": ".py",
   "mimetype": "text/x-python",
   "name": "python",
   "nbconvert_exporter": "python",
   "pygments_lexer": "ipython3",
   "version": "3.7.3"
  }
 },
 "nbformat": 4,
 "nbformat_minor": 2
}
