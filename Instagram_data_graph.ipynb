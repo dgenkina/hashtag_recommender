{
 "cells": [
  {
   "cell_type": "code",
   "execution_count": 1,
   "metadata": {},
   "outputs": [],
   "source": [
    "import numpy as np\n",
    "from itertools import combinations\n",
    "import progressbar\n",
    "import itertools \n",
    "import networkx as nx\n",
    "import pickle"
   ]
  },
  {
   "cell_type": "code",
   "execution_count": 100,
   "metadata": {},
   "outputs": [],
   "source": [
    "def nodes_connected(graph, u, v):\n",
    "     return u in graph.neighbors(v)\n",
    "\n",
    "\n",
    "def make_graph(hashtag_list_of_lists,success_list,savename='instagraph'):\n",
    "    tag_graph = nx.Graph()\n",
    "    for ind,hashtag_list in progressbar.progressbar(enumerate(hashtag_list_of_lists)):\n",
    "        for hashtag in hashtag_list:\n",
    "            if hashtag in tag_graph.nodes:\n",
    "                success = tag_graph.nodes[hashtag]['success'] + success_list[ind]\n",
    "                occurence = tag_graph.nodes[hashtag]['occurence'] + 1.0\n",
    "                \n",
    "            else:\n",
    "                success = success_list[ind]\n",
    "                occurence = 1.0                \n",
    "            tag_graph.add_node(hashtag, success=success,occurence=occurence)\n",
    "        \n",
    "        for a,b in itertools.combinations(hashtag_list,2):\n",
    "            if nodes_connected(tag_graph,a,b):\n",
    "                tag_graph[a][b]['weight']+=1\n",
    "            else:\n",
    "                tag_graph.add_edge(a,b,weight=1)\n",
    "    with open(savename, 'wb') as f:\n",
    "        pickle.dump(tag_graph,f)\n",
    "    return tag_graph"
   ]
  },
  {
   "cell_type": "code",
   "execution_count": 206,
   "metadata": {},
   "outputs": [
    {
     "name": "stderr",
     "output_type": "stream",
     "text": [
      "C:\\Users\\Swooty\\Anaconda3\\lib\\site-packages\\ipykernel_launcher.py:8: SettingWithCopyWarning: \n",
      "A value is trying to be set on a copy of a slice from a DataFrame.\n",
      "Try using .loc[row_indexer,col_indexer] = value instead\n",
      "\n",
      "See the caveats in the documentation: http://pandas.pydata.org/pandas-docs/stable/indexing.html#indexing-view-versus-copy\n",
      "  \n"
     ]
    }
   ],
   "source": [
    "import pandas as pd\n",
    "import sys\n",
    "\n",
    "filepath = 'C:\\\\Users\\\\Swooty\\\\Documents\\\\Data science\\\\DataIncubator\\\\twitter\\\\insta_data\\\\media.csv'\n",
    "df = pd.read_csv(filepath, sep=';', encoding='iso-8859-1')\n",
    "\n",
    "df_has_tags = df.loc[pd.notnull(df['comments'])]\n",
    "df_has_tags['tagset'] = df_has_tags['tagset'].apply(lambda x: x.split(','))\n",
    "\n",
    "first_1000_posts = df_has_tags['tagset'].tolist()[0:100000]\n",
    "likes_list = df_has_tags['likes'].tolist()[0:100000]"
   ]
  },
  {
   "cell_type": "code",
   "execution_count": 207,
   "metadata": {},
   "outputs": [
    {
     "name": "stderr",
     "output_type": "stream",
     "text": [
      "| |                               #               | 99999 Elapsed Time: 0:00:34\n"
     ]
    }
   ],
   "source": [
    "graph = make_graph(first_1000_posts,likes_list)"
   ]
  },
  {
   "cell_type": "code",
   "execution_count": 212,
   "metadata": {},
   "outputs": [
    {
     "data": {
      "text/plain": [
       "{'success': 406, 'occurence': 28.0}"
      ]
     },
     "execution_count": 212,
     "metadata": {},
     "output_type": "execute_result"
    }
   ],
   "source": [
    "graph.nodes['costarica']"
   ]
  },
  {
   "cell_type": "code",
   "execution_count": 170,
   "metadata": {},
   "outputs": [
    {
     "name": "stdout",
     "output_type": "stream",
     "text": [
      "[('instamarinda', 295.9255319148936, 188.0), ('instagood', 173.36263736263737, 182.0), ('biatoxic', 146.0056179775281, 178.0), ('instago', 113.42207792207792, 154.0), ('webstagram', 127.66442953020135, 149.0), ('instamood', 147.10714285714286, 140.0), ('instagramhub', 171.6890756302521, 119.0), ('igers_eb', 69.20408163265306, 98.0), ('iphonesia', 229.51546391752578, 97.0), ('igers', 73.8936170212766, 94.0), ('indonesia', 56.40229885057471, 87.0), ('sgs2', 58.16867469879518, 83.0), ('samarinda', 52.48051948051948, 77.0), ('instaaaaah', 286.6041666666667, 48.0), ('instaxlent', 402.93617021276594, 47.0), ('photooftheday', 316.83720930232556, 43.0), ('iphoneonly', 346.4146341463415, 41.0), ('all_shots', 316.1794871794872, 39.0), ('iphoneography', 127.64102564102564, 39.0), ('instasunda', 490.4736842105263, 38.0), ('vscocam', 276.27777777777777, 36.0), ('ampt_community', 395.6857142857143, 35.0), ('instameetbromo', 473.0625, 32.0), ('instadaily', 265.3225806451613, 31.0), ('im_team', 400.86206896551727, 29.0), ('instamarindagoestobali', 549.0344827586207, 29.0), ('instameetderawan', 387.57142857142856, 28.0), ('bromoijentrip', 504.15384615384613, 26.0), ('instamarinda_derawan', 387.4230769230769, 26.0), ('instafocus', 401.84615384615387, 26.0)]\n"
     ]
    }
   ],
   "source": [
    "scaled_success_list = []\n",
    "\n",
    "for node in graph.nodes:\n",
    "    ss = graph.nodes[node]['success']/graph.nodes[node]['occurence']\n",
    "    occ = graph.nodes[node]['occurence']\n",
    "    scaled_success_list.append((node,ss,occ))\n",
    "best_tag = sorted(scaled_success_list, key = lambda x: -x[1])[0][0]\n",
    "common_tag = sorted(scaled_success_list, key = lambda x: -x[2])[35][0]\n",
    "print(sorted(scaled_success_list, key = lambda x: -x[2])[:30])\n"
   ]
  },
  {
   "cell_type": "code",
   "execution_count": 220,
   "metadata": {},
   "outputs": [],
   "source": [
    "def make_sub_graph(center_tag,occurence_cutoff = 0, success_cutoff = 0):\n",
    "    sub_graph = nx.Graph()\n",
    "    sub_graph.add_node(center_tag, \n",
    "                       success = graph.nodes[center_tag]['success'],\n",
    "                       occurence = graph.nodes[center_tag]['occurence'],\n",
    "                       ss = graph.nodes[center_tag]['success']/graph.nodes[center_tag]['occurence'])\n",
    "    \n",
    "    for tag in graph.neighbors(center_tag):\n",
    "        if graph.nodes[tag]['occurence']>occurence_cutoff:\n",
    "            if graph.nodes[tag]['success']/graph.nodes[tag]['occurence']>success_cutoff:\n",
    "                sub_graph.add_node(tag,\n",
    "                           success = graph.nodes[tag]['success'],\n",
    "                           occurence = graph.nodes[tag]['occurence'],\n",
    "                           ss = graph.nodes[tag]['success']/graph.nodes[tag]['occurence'])\n",
    "\n",
    "    for a,b in itertools.combinations(sub_graph.nodes,2):\n",
    "        if nodes_connected(graph,a,b):\n",
    "            sub_graph.add_edge(a,b,weight = graph[a][b]['weight'])\n",
    "        \n",
    "    return sub_graph"
   ]
  },
  {
   "cell_type": "code",
   "execution_count": 229,
   "metadata": {},
   "outputs": [],
   "source": [
    "def get_sub_graph_sizes(sub_graph):\n",
    "    node_size_list = []\n",
    "    occurence_list = []\n",
    "    for node in sub_graph.nodes:\n",
    "        node_size_list.append(sub_graph.nodes[node]['ss'])\n",
    "        occurence_list.append(sub_graph.nodes[node]['occurence'])\n",
    "        \n",
    "    edge_width_list = []\n",
    "    for a,b in sub_graph.edges:\n",
    "        occ_a = sub_graph.nodes[a]['occurence']\n",
    "        occ_b = sub_graph.nodes[b]['occurence']\n",
    "        edge_width_list.append(float(sub_graph[a][b]['weight'])/float(occ_a)/float(occ_b))\n",
    "        \n",
    "    return node_size_list, occurence_list, edge_width_list"
   ]
  },
  {
   "cell_type": "code",
   "execution_count": 230,
   "metadata": {},
   "outputs": [
    {
     "data": {
      "text/plain": [
       "6"
      ]
     },
     "execution_count": 230,
     "metadata": {},
     "output_type": "execute_result"
    }
   ],
   "source": [
    "sub_graph = make_sub_graph('costarica',occurence_cutoff=30, success_cutoff=200)\n",
    "node_size_list, occurence_list, edge_width_list = get_sub_graph_sizes(sub_graph)\n",
    "len(node_size_list)"
   ]
  },
  {
   "cell_type": "code",
   "execution_count": 232,
   "metadata": {},
   "outputs": [
    {
     "data": {
      "image/png": "[encoded data removed]",
      "text/plain": [
       "<Figure size 432x288 with 1 Axes>"
      ]
     },
     "metadata": {},
     "output_type": "display_data"
    }
   ],
   "source": [
    "import matplotlib.pyplot as  plt\n",
    "nx.drawing.nx_pylab.draw(sub_graph, \n",
    "                         linewidths = 20,\n",
    "                         node_size = node_size_list, \n",
    "                       #  width = 10*edge_width_list,\n",
    "                         edge_color = 'k',\n",
    "                         with_labels=True)\n",
    "plt.savefig('sample_graph.png', dpi=300, bbox_inches='tight')"
   ]
  },
  {
   "cell_type": "code",
   "execution_count": null,
   "metadata": {},
   "outputs": [],
   "source": []
  }
 ],
 "metadata": {
  "kernelspec": {
   "display_name": "Python 3",
   "language": "python",
   "name": "python3"
  },
  "language_info": {
   "codemirror_mode": {
    "name": "ipython",
    "version": 3
   },
   "file_extension": ".py",
   "mimetype": "text/x-python",
   "name": "python",
   "nbconvert_exporter": "python",
   "pygments_lexer": "ipython3",
   "version": "3.7.0"
  }
 },
 "nbformat": 4,
 "nbformat_minor": 2
}
